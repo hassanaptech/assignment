{
 "cells": [
  {
   "cell_type": "markdown",
   "metadata": {},
   "source": [
    "# PIAIC ASSIGNMENT Sir Anees Ahmed Saylani Gulshan(12:15-3:15)  Hassan Asif(AIC016911)\n",
    "\n",
    "\n",
    "\n"
   ]
  },
  {
   "cell_type": "markdown",
   "metadata": {},
   "source": [
    "# Calculate Area of a Cirle:"
   ]
  },
  {
   "cell_type": "code",
   "execution_count": 4,
   "metadata": {},
   "outputs": [
    {
     "name": "stdout",
     "output_type": "stream",
     "text": [
      "Enter Radius of Circle :0.5\n",
      "Area of the Circle with Radius 0.5 is : 0.79 \n"
     ]
    }
   ],
   "source": [
    "pi = 3.141592654\n",
    "radius = float(input(\"Enter Radius of Circle :\"))\n",
    "area = pi*(radius**2)\n",
    "print(f\"Area of the Circle with Radius {radius} is : %0.2f \" %area)"
   ]
  },
  {
   "cell_type": "markdown",
   "metadata": {},
   "source": [
    "# 2. Check Number either positive, negative or zero:"
   ]
  },
  {
   "cell_type": "code",
   "execution_count": 6,
   "metadata": {},
   "outputs": [
    {
     "name": "stdout",
     "output_type": "stream",
     "text": [
      "Enter any Number: 1\n",
      "Positive Number Entered\n"
     ]
    }
   ],
   "source": [
    "num = int(input(\"Enter any Number: \"))\n",
    "if num < 0:\n",
    "    print(\"Negative Number is Entered\")\n",
    "elif num > 0:\n",
    "    print(\"Positive Number Entered\")\n",
    "else:\n",
    "    print(\"Zero is Entered\")\n"
   ]
  },
  {
   "cell_type": "markdown",
   "metadata": {},
   "source": [
    "# Divisibility Check of two numbers:"
   ]
  },
  {
   "cell_type": "code",
   "execution_count": 8,
   "metadata": {},
   "outputs": [
    {
     "name": "stdout",
     "output_type": "stream",
     "text": [
      "Enter Numerator: 4\n",
      "Enter Denominator: 2\n",
      "Number 4 is Completely Divisible by 2\n"
     ]
    }
   ],
   "source": [
    "n = int(input(\"Enter Numerator: \"))\n",
    "d = int(input(\"Enter Denominator: \"))\n",
    "if n % d  == 0:\n",
    "    print(\"Number\", n , \"is Completely Divisible by\", d)\n",
    "else:\n",
    "     print(\"Number\", n , \"is not Completely Divisible by\", d)"
   ]
  },
  {
   "cell_type": "markdown",
   "metadata": {},
   "source": [
    "# Days Calculator:"
   ]
  },
  {
   "cell_type": "code",
   "execution_count": 9,
   "metadata": {},
   "outputs": [
    {
     "name": "stdout",
     "output_type": "stream",
     "text": [
      "Enter Start date in (dd/mm/yy) Format: 12/05/2012\n",
      "Enter End date in (dd/mm/yy) Format: 12/05/2013\n",
      "There are 365 days in Between 12/05/2012 and 12/05/2013\n"
     ]
    }
   ],
   "source": [
    "from datetime import datetime\n",
    "date_format = \"%d/%m/%Y\"\n",
    "s = input(\"Enter Start date in (dd/mm/yy) Format: \")\n",
    "e = input(\"Enter End date in (dd/mm/yy) Format: \")\n",
    "S = datetime.strptime( s , date_format)\n",
    "E = datetime.strptime( e , date_format)\n",
    "delta = E - S\n",
    "print (\"There are\", delta.days, \"days in Between\", s , \"and\" , e)"
   ]
  },
  {
   "cell_type": "markdown",
   "metadata": {},
   "source": [
    "# Calculate volume of Sphere:\n"
   ]
  },
  {
   "cell_type": "code",
   "execution_count": 11,
   "metadata": {},
   "outputs": [
    {
     "name": "stdout",
     "output_type": "stream",
     "text": [
      "Enter Radius value(number) for Sphere:3\n",
      "The Volume of Sphere with Radius 3.0 is : 113.10 \n"
     ]
    }
   ],
   "source": [
    "PI = 3.141592654\n",
    "R = float(input(\"Enter Radius value(number) for Sphere:\"))\n",
    "V=(4.0/3.0)*PI*R**3\n",
    "print(f\"The Volume of Sphere with Radius {R} is : %0.2f \" %V)"
   ]
  },
  {
   "cell_type": "markdown",
   "metadata": {},
   "source": [
    "# Copy String N Times:"
   ]
  },
  {
   "cell_type": "code",
   "execution_count": 12,
   "metadata": {},
   "outputs": [
    {
     "name": "stdout",
     "output_type": "stream",
     "text": [
      "Enter string: q\n",
      "How many possible copies of String Data you need to print: 5\n",
      "5 Copies of q are : qqqqq\n"
     ]
    }
   ],
   "source": [
    "S = str(input(\"Enter string: \"))\n",
    "C = int(input(\"How many possible copies of String Data you need to print: \"))\n",
    "if C > 0:\n",
    "    print(C,\"Copies of\", S , \"are :\" , S * C)        \n",
    "else:\n",
    "    print(\"you Entered Invalid number of Copies:\")\n"
   ]
  },
  {
   "cell_type": "markdown",
   "metadata": {},
   "source": [
    "# Checking If Number is Even or Odd:"
   ]
  },
  {
   "cell_type": "code",
   "execution_count": 13,
   "metadata": {},
   "outputs": [
    {
     "name": "stdout",
     "output_type": "stream",
     "text": [
      "Enter any whole Number: 2\n",
      "2 is Even\n"
     ]
    }
   ],
   "source": [
    "num = int(input(\"Enter any whole Number: \"))\n",
    "if num % 2 == 0:\n",
    "    print(num, \"is Even\")\n",
    "else:\n",
    "    print(num, \"is Odd\")\n",
    "    \n",
    "    "
   ]
  },
  {
   "cell_type": "markdown",
   "metadata": {},
   "source": [
    "# Vowel Tester:"
   ]
  },
  {
   "cell_type": "code",
   "execution_count": 15,
   "metadata": {},
   "outputs": [
    {
     "name": "stdout",
     "output_type": "stream",
     "text": [
      "Enter a Character from Alphabets: a\n",
      "Letter  a is Vowel\n"
     ]
    }
   ],
   "source": [
    "char = input(\"Enter a Character from Alphabets: \")\n",
    "c = char.lower()\n",
    "if c == \"a\" or c == \"e\" or c == \"i\" or c == \"o\" or c == \"u\" :\n",
    "    print(\"Letter \",char, \"is Vowel\")\n",
    "else:\n",
    "    print(\"Letter \",char, \"is not Vowel\")\n"
   ]
  },
  {
   "cell_type": "markdown",
   "metadata": {},
   "source": [
    "# Triangle Area:"
   ]
  },
  {
   "cell_type": "code",
   "execution_count": 16,
   "metadata": {},
   "outputs": [
    {
     "name": "stdout",
     "output_type": "stream",
     "text": [
      "Enter Magnitude of Triangle Base:12\n",
      "Enter Magnitude of Triangle Height:12\n",
      "Area of a Triangle with Base 12 and Height 12  : 72.0\n"
     ]
    }
   ],
   "source": [
    "base = int(input(\"Enter Magnitude of Triangle Base:\"))\n",
    "height = int(input(\"Enter Magnitude of Triangle Height:\"))\n",
    "print(\"Area of a Triangle with Base\",base,\"and Height\",height,\" :\", height * base / 2)\n"
   ]
  },
  {
   "cell_type": "markdown",
   "metadata": {},
   "source": [
    "# Calculate Interest:\n"
   ]
  },
  {
   "cell_type": "code",
   "execution_count": 17,
   "metadata": {},
   "outputs": [
    {
     "name": "stdout",
     "output_type": "stream",
     "text": [
      "Please Enter Principle Amount: 10000\n",
      "Please Enter rate of interest in %: .1\n",
      "Enter Number of years for Investment: 5\n",
      "After 5 years your principal amount 10000 over an interest rate of 0.1 % will be 1610.51\n"
     ]
    }
   ],
   "source": [
    "a = int(input(\"Please Enter Principle Amount: \"))\n",
    "b = float(input(\"Please Enter rate of interest in %: \"))\n",
    "c = int(input(\"Enter Number of years for Investment: \"))\n",
    "e = 0\n",
    "f = a * b \n",
    "while e < c:\n",
    "    f += f * b \n",
    "    e += 1\n",
    "print(\"After\",c,\"years your principal amount\",a,\"over an interest rate of\",b,\"% will be\",f)"
   ]
  },
  {
   "cell_type": "markdown",
   "metadata": {},
   "source": [
    "# Euclidean Distance:"
   ]
  },
  {
   "cell_type": "code",
   "execution_count": 1,
   "metadata": {},
   "outputs": [
    {
     "name": "stdout",
     "output_type": "stream",
     "text": [
      "Enter Co-ordinate for X1: 2\n",
      "Enter Co-ordinate for X2: 3\n",
      "Enter Co-ordinate for Y1: 3\n",
      "Enter Co-ordinate for Y2: 33\n",
      "Distance Between Points ( 2 , 3 ) and ( 3 , 33 ) is:  30.01666203960727\n"
     ]
    }
   ],
   "source": [
    "import math\n",
    "a = int(input(\"Enter Co-ordinate for X1: \"))\n",
    "b = int(input(\"Enter Co-ordinate for X2: \"))\n",
    "c = int(input(\"Enter Co-ordinate for Y1: \"))\n",
    "d = int(input(\"Enter Co-ordinate for Y2: \"))\n",
    "g = (a - b)*(a - b) + (c - d)*(c - d)\n",
    "e = math.sqrt(g)\n",
    "print(\"Distance Between Points (\", a , \",\" , c , \") and (\" ,b, \",\" , d , \") is: \",e)\n"
   ]
  },
  {
   "cell_type": "markdown",
   "metadata": {},
   "source": [
    "# Feet to Centimeter Converter:"
   ]
  },
  {
   "cell_type": "code",
   "execution_count": 2,
   "metadata": {},
   "outputs": [
    {
     "name": "stdout",
     "output_type": "stream",
     "text": [
      "Enter Height in Feet: 5\n",
      "There are 152.4 cm in 5.0 ft\n"
     ]
    }
   ],
   "source": [
    "feet = float(input(\"Enter Height in Feet: \"))\n",
    "print(\"There are\", feet * 30.48,\"cm\",\"in\",feet,\"ft\" )\n"
   ]
  },
  {
   "cell_type": "markdown",
   "metadata": {},
   "source": [
    "# BMI Calculator:"
   ]
  },
  {
   "cell_type": "code",
   "execution_count": 3,
   "metadata": {},
   "outputs": [
    {
     "name": "stdout",
     "output_type": "stream",
     "text": [
      "Enter Height in cm: 180\n",
      "Enter Weight in kg: 75\n",
      " Your BMI is:  23.15\n"
     ]
    }
   ],
   "source": [
    "height = float(input(\"Enter Height in cm: \"))\n",
    "weight = float(input(\"Enter Weight in kg: \"))\n",
    "bmi = round( weight / (( height * 0.01 )**2) ,2 )\n",
    "print( \" Your BMI is: \", bmi )"
   ]
  },
  {
   "cell_type": "markdown",
   "metadata": {},
   "source": [
    "# Sum of N Positive Integers:"
   ]
  },
  {
   "cell_type": "code",
   "execution_count": 7,
   "metadata": {},
   "outputs": [
    {
     "name": "stdout",
     "output_type": "stream",
     "text": [
      "Enter value of n: 5\n",
      " Sum of N Posistive Inetegers  is :  15.0\n"
     ]
    }
   ],
   "source": [
    "n = int(input(\"Enter value of n: \"))\n",
    "sum = (n*(n+1)) / 2\n",
    "print(\" Sum of N Posistive Inetegers  is : \", sum)\n"
   ]
  },
  {
   "cell_type": "markdown",
   "metadata": {},
   "source": [
    "# Digits Sum of Numbers:"
   ]
  },
  {
   "cell_type": "code",
   "execution_count": 8,
   "metadata": {},
   "outputs": [
    {
     "name": "stdout",
     "output_type": "stream",
     "text": [
      "Enter a Number: 1234\n",
      "Sum of 1+2+3+4 is:  10\n"
     ]
    }
   ],
   "source": [
    "n = str(input(\"Enter a Number: \"))\n",
    "sum = 0 \n",
    "for x in n:\n",
    "    sum += int(x)\n",
    "print(\"Sum of\", '+'.join(map(str,n)) ,\"is: \",sum)\n"
   ]
  },
  {
   "cell_type": "markdown",
   "metadata": {},
   "source": [
    "# Decimal To Binary Converter:"
   ]
  },
  {
   "cell_type": "code",
   "execution_count": 9,
   "metadata": {},
   "outputs": [
    {
     "name": "stdout",
     "output_type": "stream",
     "text": [
      "Enter a Decimal number: 5\n",
      "Binary Reperesentation of 5 is:  101\n"
     ]
    }
   ],
   "source": [
    "d = int(input(\"Enter a Decimal number: \"))\n",
    "b = bin(d)\n",
    "print(\"Binary Reperesentation of\",d,\"is: \", b[2:])"
   ]
  },
  {
   "cell_type": "markdown",
   "metadata": {},
   "source": [
    "# Binary To Decimal Converter:"
   ]
  },
  {
   "cell_type": "code",
   "execution_count": 10,
   "metadata": {},
   "outputs": [
    {
     "name": "stdout",
     "output_type": "stream",
     "text": [
      "Enter a Binary number: 1101\n",
      "Decimal Reperesentation of 1101 is:  13\n"
     ]
    }
   ],
   "source": [
    "b = input(\"Enter a Binary number: \")\n",
    "d = int(b,2)\n",
    "print(\"Decimal Reperesentation of\",b,\"is: \",d)\n"
   ]
  },
  {
   "cell_type": "markdown",
   "metadata": {},
   "source": [
    "# Vowel and Consonants Counter:"
   ]
  },
  {
   "cell_type": "code",
   "execution_count": 11,
   "metadata": {},
   "outputs": [
    {
     "name": "stdout",
     "output_type": "stream",
     "text": [
      "Enter Text: idontknow\n",
      "Vowels:  3\n",
      "Consonants:  6\n"
     ]
    }
   ],
   "source": [
    "a = input(\"Enter Text: \")\n",
    "c = a.lower()\n",
    "vowel = 0\n",
    "consonant = 0\n",
    "for x in c:\n",
    "    if x == \"a\" or x == \"e\" or x == \"i\" or x == \"o\" or x == \"u\":\n",
    "        vowel += 1\n",
    "    else:\n",
    "        consonant += 1\n",
    "print(\"Vowels: \", vowel)\n",
    "print(\"Consonants: \", consonant)\n",
    "\n"
   ]
  },
  {
   "cell_type": "markdown",
   "metadata": {},
   "source": [
    "# Palindrome Tester:"
   ]
  },
  {
   "cell_type": "code",
   "execution_count": 13,
   "metadata": {},
   "outputs": [
    {
     "name": "stdout",
     "output_type": "stream",
     "text": [
      "Enter Text: hell\n",
      "Text is Not Palindrome. \n"
     ]
    }
   ],
   "source": [
    "str_data = str(input(\"Enter Text: \"))\n",
    "str_data = str_data.casefold()\n",
    "str_rev = reversed( str_data )\n",
    "\n",
    "if list( str_data ) == list( str_rev ):\n",
    "    print(\"Text is Palindrome. \")\n",
    "    \n",
    "else:\n",
    "    print(\"Text is Not Palindrome. \")"
   ]
  },
  {
   "cell_type": "code",
   "execution_count": 14,
   "metadata": {},
   "outputs": [
    {
     "name": "stdout",
     "output_type": "stream",
     "text": [
      "Enter Text: python  3.2\n",
      "Alphabets:           6\n",
      "Numbers:             2\n",
      "Special Characters:  1\n",
      "Space:               2\n"
     ]
    }
   ],
   "source": [
    "str_data = input(\"Enter Text: \")\n",
    "alpha = 0\n",
    "digit = 0\n",
    "sc = 0\n",
    "space = 0\n",
    "for x in str_data:\n",
    "    if int(ord(x)) >= 65 and int(ord(x)) <= 122:\n",
    "        alpha += 1\n",
    "    elif int(ord(x)) >= 48 and int(ord(x)) <= 57:\n",
    "        digit += 1\n",
    "    elif x == \" \":\n",
    "        space += 1\n",
    "    else:\n",
    "        sc += 1\n",
    "print(\"Alphabets:          \",alpha)\n",
    "print(\"Numbers:            \",digit)\n",
    "print(\"Special Characters: \",sc)\n",
    "print(\"Space:              \",space)\n"
   ]
  },
  {
   "cell_type": "markdown",
   "metadata": {},
   "source": [
    "# PATTERN 1"
   ]
  },
  {
   "cell_type": "code",
   "execution_count": 15,
   "metadata": {},
   "outputs": [
    {
     "name": "stdout",
     "output_type": "stream",
     "text": [
      "*\n",
      "**\n",
      "***\n",
      "****\n",
      "*****\n",
      "****\n",
      "***\n",
      "**\n",
      "*\n"
     ]
    }
   ],
   "source": [
    "f1 = 1\n",
    "i1 = 0\n",
    "f2 = 4\n",
    "i2 = 0\n",
    "while i1 <= 4:\n",
    "    d = '*'\n",
    "    print(d * f1)\n",
    "    f1 += 1\n",
    "    i1 += 1\n",
    "while i2 < 4:\n",
    "    d = '*'\n",
    "    print(d * f2)\n",
    "    f2 -= 1\n",
    "    i2 += 1\n"
   ]
  },
  {
   "cell_type": "markdown",
   "metadata": {},
   "source": [
    "# Pattern 2:"
   ]
  },
  {
   "cell_type": "code",
   "execution_count": 16,
   "metadata": {},
   "outputs": [
    {
     "name": "stdout",
     "output_type": "stream",
     "text": [
      "1  \n",
      "1 2  \n",
      "1 2 3  \n",
      "1 2 3 4  \n",
      "1 2 3 4 5  \n",
      "1 2 3 4  \n",
      "1 2 3  \n",
      "1 2  \n",
      "1  \n"
     ]
    }
   ],
   "source": [
    "i = 6\n",
    "d = 0\n",
    "for x in range(1,i):\n",
    "    for y in range(1, x + 1):\n",
    "        print (y , end = \" \")\n",
    "    print(\" \")\n",
    "for r in range(4,d,-1):\n",
    "    for c in range(1, r + 1):\n",
    "        print (c , end = \" \")\n",
    "    print(\" \")\n"
   ]
  },
  {
   "cell_type": "markdown",
   "metadata": {},
   "source": [
    "# Pattern 3:"
   ]
  },
  {
   "cell_type": "code",
   "execution_count": 17,
   "metadata": {},
   "outputs": [
    {
     "name": "stdout",
     "output_type": "stream",
     "text": [
      " \n",
      "1  \n",
      "2 2  \n",
      "3 3 3  \n",
      "4 4 4 4  \n",
      "5 5 5 5 5  \n",
      "6 6 6 6 6 6  \n",
      "7 7 7 7 7 7 7  \n",
      "8 8 8 8 8 8 8 8  \n",
      "9 9 9 9 9 9 9 9 9  \n"
     ]
    }
   ],
   "source": [
    "for i in range(10):\n",
    "    for f in range(i):\n",
    "        print(i, end = ' ')\n",
    "    print(\" \")\n"
   ]
  },
  {
   "cell_type": "code",
   "execution_count": null,
   "metadata": {},
   "outputs": [],
   "source": []
  }
 ],
 "metadata": {
  "kernelspec": {
   "display_name": "Python 3",
   "language": "python",
   "name": "python3"
  },
  "language_info": {
   "codemirror_mode": {
    "name": "ipython",
    "version": 3
   },
   "file_extension": ".py",
   "mimetype": "text/x-python",
   "name": "python",
   "nbconvert_exporter": "python",
   "pygments_lexer": "ipython3",
   "version": "3.7.3"
  }
 },
 "nbformat": 4,
 "nbformat_minor": 2
}
